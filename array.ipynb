{
 "cells": [
  {
   "cell_type": "markdown",
   "metadata": {},
   "source": [
    "to find the second largest and second smallest element from the array\n",
    "\n",
    "task is to return two elements (second largest and second smallest)"
   ]
  },
  {
   "cell_type": "code",
   "execution_count": 2,
   "metadata": {},
   "outputs": [
    {
     "name": "stdout",
     "output_type": "stream",
     "text": [
      "[4, 2]\n"
     ]
    }
   ],
   "source": [
    "def secondLargest(arr):\n",
    "    if len(arr) < 2:\n",
    "        return None\n",
    "    \n",
    "    largest = arr[0]\n",
    "    slargest = int(-1e9)\n",
    "\n",
    "    for i in arr:\n",
    "        if i > largest:\n",
    "            slargest = largest\n",
    "            largest = i\n",
    "\n",
    "        elif i < largest and i > slargest:\n",
    "            slargest = i\n",
    "\n",
    "    return slargest\n",
    "\n",
    "def secondSmallest(arr):\n",
    "    if len(arr) < 2:\n",
    "        return None\n",
    "    \n",
    "    smallest = arr[0]\n",
    "    ssmallest = int(1e9)\n",
    "\n",
    "    for i in arr:\n",
    "        if i < smallest:\n",
    "            ssmallest = smallest\n",
    "            smallest = i\n",
    "        elif i > smallest and i < ssmallest:\n",
    "            ssmallest = i\n",
    "\n",
    "    return ssmallest\n",
    "\n",
    "\n",
    "def secondLargestandsmallest(arr):\n",
    "\n",
    "    slargest = secondLargest(arr)\n",
    "    ssmallest = secondSmallest(arr)\n",
    "    return [slargest,ssmallest]\n",
    "\n",
    "\n",
    "arr = [1,2,3,4,5]\n",
    "res = secondLargestandsmallest(arr)\n",
    "print(res)"
   ]
  },
  {
   "cell_type": "code",
   "execution_count": 3,
   "metadata": {},
   "outputs": [
    {
     "name": "stdout",
     "output_type": "stream",
     "text": [
      "[4, 2]\n"
     ]
    }
   ],
   "source": [
    "def findSecondLargestandSecondSmallest(arr):\n",
    "\n",
    "    if len(arr) < 2:\n",
    "        return None\n",
    "    \n",
    "    lar = arr[0]\n",
    "    slar = int(-1e9)\n",
    "    sml = arr[0]\n",
    "    ssml = int(1e9)\n",
    "\n",
    "    for i in arr:\n",
    "        if i > lar:\n",
    "            slar = lar\n",
    "            lar = i\n",
    "        elif i < lar and i > slar:\n",
    "            slar = i \n",
    "   \n",
    "        if i < sml:\n",
    "            ssml = sml\n",
    "            sml = i\n",
    "        elif i > sml and i < ssml:\n",
    "            ssml = i\n",
    "    \n",
    "    return [slar, ssml]\n",
    "\n",
    "arr = [1,2,3,4,5]\n",
    "\n",
    "res = findSecondLargestandSecondSmallest(arr)\n",
    "print(res)"
   ]
  },
  {
   "cell_type": "markdown",
   "metadata": {},
   "source": [
    "Given an array \"A\" of \"N\" non-negative integers and has been asked to check whether the given array sorted in the non-descreasing order or not.\n",
    "task is to return 1 if the given is sorted esle return 0\n"
   ]
  },
  {
   "cell_type": "code",
   "execution_count": 22,
   "metadata": {},
   "outputs": [
    {
     "name": "stdout",
     "output_type": "stream",
     "text": [
      "False\n",
      "True\n"
     ]
    }
   ],
   "source": [
    "def is_Sorted(arr):\n",
    "    for i in range(1,len(arr)):\n",
    "        if arr[i] < arr[i-1]:\n",
    "            return False\n",
    "    return True\n",
    "\n",
    "arr = [1,2,3,4,6,5]   ## Not Sorted --> False\n",
    "res1 = is_Sorted(arr)\n",
    "print(res1)\n",
    "\n",
    "arr_ = [1,2,3,4,5,6]  # Sorted --> True\n",
    "res_= is_Sorted(arr_)\n",
    "print(res_)"
   ]
  },
  {
   "cell_type": "code",
   "execution_count": 19,
   "metadata": {},
   "outputs": [
    {
     "name": "stdout",
     "output_type": "stream",
     "text": [
      "0\n"
     ]
    }
   ],
   "source": [
    "def isSorted(arr):\n",
    "\n",
    "    for i in range(1,len(arr)):\n",
    "        if arr[i] < arr[i-1]:\n",
    "            return 0\n",
    "    return 1\n",
    "\n",
    "arr1 = [2,3,4,1,4,5]\n",
    "\n",
    "res = isSorted(arr1)\n",
    "print(res)"
   ]
  },
  {
   "cell_type": "code",
   "execution_count": 18,
   "metadata": {},
   "outputs": [
    {
     "name": "stdout",
     "output_type": "stream",
     "text": [
      "1\n"
     ]
    }
   ],
   "source": [
    "def isSorted(arr):\n",
    "\n",
    "    for i in range(1,len(arr)):\n",
    "        if arr[i] < arr[i-1]:\n",
    "            return 0\n",
    "    return 1\n",
    "\n",
    "arr2 = [1, 2, 2, 3, 4, 5]\n",
    "res = isSorted(arr2)\n",
    "print(res)"
   ]
  },
  {
   "cell_type": "markdown",
   "metadata": {},
   "source": [
    "REMOVE DUPLICATES FROM THE SORTED ARRAY."
   ]
  },
  {
   "cell_type": "code",
   "execution_count": 25,
   "metadata": {},
   "outputs": [
    {
     "name": "stdout",
     "output_type": "stream",
     "text": [
      "False\n"
     ]
    }
   ],
   "source": [
    "def hasDuplicate(arr):\n",
    "\n",
    "    unique = set()\n",
    "\n",
    "    for i in range(1,len(arr)):\n",
    "        if i in unique:\n",
    "            return True\n",
    "        unique.add(i)\n",
    "    return False\n",
    "\n",
    "\n",
    "arr = [1,2,2,3,4,5,6,9,3,0,1,2]\n",
    "res = isSorted(arr)\n",
    "print(res)"
   ]
  },
  {
   "cell_type": "code",
   "execution_count": 27,
   "metadata": {},
   "outputs": [
    {
     "name": "stdout",
     "output_type": "stream",
     "text": [
      "[2, 3, 1, 2]\n"
     ]
    }
   ],
   "source": [
    "def removedup(arr):\n",
    "    unique = set()\n",
    "\n",
    "    lst = []\n",
    "\n",
    "    for i in arr:\n",
    "        if i in unique:\n",
    "            lst.append(i)\n",
    "        unique.add(i)\n",
    "    return lst\n",
    "        \n",
    "arr = [1,2,2,3,4,5,6,9,3,0,1,2]\n",
    "res = removedup(arr)\n",
    "print(res)"
   ]
  },
  {
   "cell_type": "code",
   "execution_count": null,
   "metadata": {},
   "outputs": [],
   "source": [
    "i = 0\n",
    "\n",
    "for j in range(1,len(arr)):\n",
    "    if arr[j] != arr[i]:\n",
    "        i += 1\n",
    "        arr[i] = arr[j]\n",
    "return i + 1"
   ]
  },
  {
   "cell_type": "code",
   "execution_count": null,
   "metadata": {},
   "outputs": [],
   "source": [
    "def removeDuplicates(arr):\n",
    "    if not arr:\n",
    "        return 0\n",
    "    \n",
    "    i = 0  # Initialize the index for the last unique element\n",
    "    for j in range(1, len(arr)):\n",
    "        if arr[j] != arr[i]:  # If the current element is different from the last unique element\n",
    "            i += 1           # Move the index for unique elements\n",
    "            arr[i] = arr[j]  # Update the position with the current element\n",
    "    \n",
    "    return i + 1  # The length of the array without duplicates\n",
    "\n",
    "# Example usage:\n",
    "arr1 = [1, 1, 2, 2, 3, 4, 4, 5]\n",
    "length = removeDuplicates(arr1)\n",
    "print(length)       # Output: 5\n",
    "print(arr1[:length])  # Output: [1, 2, 3, 4, 5]\n"
   ]
  },
  {
   "cell_type": "code",
   "execution_count": null,
   "metadata": {},
   "outputs": [],
   "source": []
  }
 ],
 "metadata": {
  "kernelspec": {
   "display_name": "base",
   "language": "python",
   "name": "python3"
  },
  "language_info": {
   "codemirror_mode": {
    "name": "ipython",
    "version": 3
   },
   "file_extension": ".py",
   "mimetype": "text/x-python",
   "name": "python",
   "nbconvert_exporter": "python",
   "pygments_lexer": "ipython3",
   "version": "3.11.5"
  }
 },
 "nbformat": 4,
 "nbformat_minor": 2
}
