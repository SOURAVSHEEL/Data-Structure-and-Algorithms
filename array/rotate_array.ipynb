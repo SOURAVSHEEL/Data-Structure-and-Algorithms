{
 "cells": [
  {
   "cell_type": "markdown",
   "id": "37a62c5f",
   "metadata": {},
   "source": [
    "## Problem statement\n",
    "\n",
    "Given an integer array nums, rotate the array to the right by k steps, where k in non-negative\n",
    "\n",
    "In a right rotation:\n",
    "\n",
    "Each element moves k positons to the right\n",
    "\n",
    "Elements that go beyond the array length wrap around to the beginnng\n",
    "\n",
    "The last k elements move to the front of the array\n",
    "\n"
   ]
  },
  {
   "cell_type": "code",
   "execution_count": 2,
   "id": "48326c5e",
   "metadata": {},
   "outputs": [
    {
     "data": {
      "text/plain": [
       "[5, 6, 7, 1, 2, 3, 4]"
      ]
     },
     "execution_count": 2,
     "metadata": {},
     "output_type": "execute_result"
    }
   ],
   "source": [
    "def rotate_right(arr, k):\n",
    "\n",
    "    n = len(arr)\n",
    "    k = k % n\n",
    "\n",
    "    def reverse(left, right):\n",
    "        while left < right:\n",
    "            arr[left], arr[right] = arr[right],arr[left]\n",
    "            left += 1\n",
    "            right -= 1\n",
    "\n",
    "    ## entire array\n",
    "    reverse(0,n-1)\n",
    "    ## first k elements\n",
    "    reverse(0,k-1)\n",
    "    ## remaining elements\n",
    "    reverse(k,n-1)\n",
    "\n",
    "    return arr\n",
    "\n",
    "\n",
    "nums = [1, 2, 3, 4, 5, 6, 7]\n",
    "rotate_right(nums, 3)"
   ]
  },
  {
   "cell_type": "markdown",
   "id": "e27511c1",
   "metadata": {},
   "source": [
    "## Problem Statement\n",
    "\n",
    "Given an array of integers, rotate the array to the left by k positions. In a left rotation:\n",
    "\n",
    "Each element moves k positions to the left\n",
    "\n",
    "Elements that go before the start wrap around to the end\n",
    "\n",
    "The first k elements move to the end of the array"
   ]
  },
  {
   "cell_type": "code",
   "execution_count": 15,
   "id": "ffafa0c5",
   "metadata": {},
   "outputs": [
    {
     "data": {
      "text/plain": [
       "[10, 11, 3, 7, 8, 9]"
      ]
     },
     "execution_count": 15,
     "metadata": {},
     "output_type": "execute_result"
    }
   ],
   "source": [
    "def rotate_left(arr,k):\n",
    "\n",
    "    n = len(arr)\n",
    "    k = k % n\n",
    "    if k == 0:\n",
    "        return\n",
    "\n",
    "    def reverse(left,right):\n",
    "        while left < right:\n",
    "            arr[left],arr[right] = arr[right],arr[left]\n",
    "            left += 1\n",
    "            right -= 1\n",
    "\n",
    "    # Reverse first k elements\n",
    "    reverse(0,k-1)   \n",
    "    # reverse remaining n-k elements\n",
    "    reverse(k,n-1)\n",
    "    # reverse entire array\n",
    "    reverse(0,n-1)\n",
    "\n",
    "    return arr\n",
    "\n",
    "\n",
    "nums = [3,7,8,9,10,11]\n",
    "rotate_left(nums, 10)"
   ]
  },
  {
   "cell_type": "markdown",
   "id": "f02e7aa9",
   "metadata": {},
   "source": [
    "n = 6 (length of array)\n",
    "\n",
    "k = 10 % 6 = 4 (this is the key step!)\n",
    "\n",
    "k = 10 % 6 = 4, so rotating left by 4 positions, not 10.\n",
    "\n",
    "Rotating by 10 positions in a 6-element array is the same as rotating by 4 positions"
   ]
  },
  {
   "cell_type": "code",
   "execution_count": null,
   "id": "24f9f90e",
   "metadata": {},
   "outputs": [],
   "source": []
  },
  {
   "cell_type": "code",
   "execution_count": null,
   "id": "b58b011a",
   "metadata": {},
   "outputs": [],
   "source": []
  },
  {
   "cell_type": "code",
   "execution_count": null,
   "id": "f3d3d674",
   "metadata": {},
   "outputs": [],
   "source": []
  },
  {
   "cell_type": "code",
   "execution_count": null,
   "id": "2b6b3cc0",
   "metadata": {},
   "outputs": [],
   "source": []
  }
 ],
 "metadata": {
  "kernelspec": {
   "display_name": "base",
   "language": "python",
   "name": "python3"
  },
  "language_info": {
   "codemirror_mode": {
    "name": "ipython",
    "version": 3
   },
   "file_extension": ".py",
   "mimetype": "text/x-python",
   "name": "python",
   "nbconvert_exporter": "python",
   "pygments_lexer": "ipython3",
   "version": "3.12.7"
  }
 },
 "nbformat": 4,
 "nbformat_minor": 5
}
