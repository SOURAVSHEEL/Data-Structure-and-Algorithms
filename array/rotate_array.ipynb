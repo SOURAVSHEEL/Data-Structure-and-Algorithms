{
 "cells": [
  {
   "cell_type": "markdown",
   "id": "37a62c5f",
   "metadata": {},
   "source": [
    "## Problem statement\n",
    "\n",
    "Given an integer array nums, rotate the array to the right by k steps, where k in non-negative\n",
    "\n",
    "In a right rotation:\n",
    "\n",
    "Each element moves k positons to the right\n",
    "\n",
    "Elements that go beyond the array length wrap around to the beginnng\n",
    "\n",
    "The last k elements move to the front of the array\n",
    "\n"
   ]
  },
  {
   "cell_type": "code",
   "execution_count": 2,
   "id": "48326c5e",
   "metadata": {},
   "outputs": [
    {
     "data": {
      "text/plain": [
       "[5, 6, 7, 1, 2, 3, 4]"
      ]
     },
     "execution_count": 2,
     "metadata": {},
     "output_type": "execute_result"
    }
   ],
   "source": [
    "def rotate_right(arr, k):\n",
    "\n",
    "    n = len(arr)\n",
    "    k = k % n\n",
    "\n",
    "    def reverse(left, right):\n",
    "        while left < right:\n",
    "            arr[left], arr[right] = arr[right],arr[left]\n",
    "            left += 1\n",
    "            right -= 1\n",
    "\n",
    "    ## entire array\n",
    "    reverse(0,n-1)\n",
    "    ## first k elements\n",
    "    reverse(0,k-1)\n",
    "    ## remaining elements\n",
    "    reverse(k,n-1)\n",
    "\n",
    "    return arr\n",
    "\n",
    "\n",
    "nums = [1, 2, 3, 4, 5, 6, 7]\n",
    "rotate_right(nums, 3)"
   ]
  },
  {
   "cell_type": "code",
   "execution_count": null,
   "id": "ffafa0c5",
   "metadata": {},
   "outputs": [],
   "source": []
  },
  {
   "cell_type": "code",
   "execution_count": null,
   "id": "24f9f90e",
   "metadata": {},
   "outputs": [],
   "source": []
  },
  {
   "cell_type": "code",
   "execution_count": null,
   "id": "b58b011a",
   "metadata": {},
   "outputs": [],
   "source": []
  },
  {
   "cell_type": "code",
   "execution_count": null,
   "id": "f3d3d674",
   "metadata": {},
   "outputs": [],
   "source": []
  },
  {
   "cell_type": "code",
   "execution_count": null,
   "id": "2b6b3cc0",
   "metadata": {},
   "outputs": [],
   "source": []
  }
 ],
 "metadata": {
  "kernelspec": {
   "display_name": "base",
   "language": "python",
   "name": "python3"
  },
  "language_info": {
   "codemirror_mode": {
    "name": "ipython",
    "version": 3
   },
   "file_extension": ".py",
   "mimetype": "text/x-python",
   "name": "python",
   "nbconvert_exporter": "python",
   "pygments_lexer": "ipython3",
   "version": "3.12.7"
  }
 },
 "nbformat": 4,
 "nbformat_minor": 5
}
