{
 "cells": [
  {
   "cell_type": "markdown",
   "metadata": {},
   "source": [
    "## Write a python function to find the second largest element in a list wthout using built in sorting functions"
   ]
  },
  {
   "cell_type": "code",
   "execution_count": 1,
   "metadata": {},
   "outputs": [],
   "source": [
    "def second_largest(arr):\n",
    "    lar = float('-inf')\n",
    "    sec = float('inf')\n",
    "\n",
    "    for i in arr:\n",
    "        if i > lar:\n",
    "            sec, lar = lar , i \n",
    "        elif i > sec and i != lar:\n",
    "            sec = i\n",
    "    return sec\n",
    "   "
   ]
  },
  {
   "cell_type": "code",
   "execution_count": 2,
   "metadata": {},
   "outputs": [
    {
     "name": "stdout",
     "output_type": "stream",
     "text": [
      "7\n"
     ]
    }
   ],
   "source": [
    "arr = [2,4,1,9,7,6,3,5]\n",
    "\n",
    "res = second_largest(arr)\n",
    "print(res)"
   ]
  },
  {
   "cell_type": "markdown",
   "metadata": {},
   "source": [
    "##  Write a Python script to remove duplicates from a list of client IDs while maintaining the original order."
   ]
  },
  {
   "cell_type": "code",
   "execution_count": null,
   "metadata": {},
   "outputs": [],
   "source": [
    "def removedup(arr):\n",
    "    unique = set()\n",
    "\n",
    "    lst = []\n",
    "\n",
    "    for i in arr:\n",
    "        if i in unique:\n",
    "            lst.append(i)\n",
    "        unique.add(i)\n",
    "    return lst\n",
    "        \n",
    "arr = [1,2,2,3,4,5,6,9,3,0,1,2]\n",
    "res = removedup(arr)\n",
    "print(res)"
   ]
  }
 ],
 "metadata": {
  "kernelspec": {
   "display_name": "base",
   "language": "python",
   "name": "python3"
  },
  "language_info": {
   "codemirror_mode": {
    "name": "ipython",
    "version": 3
   },
   "file_extension": ".py",
   "mimetype": "text/x-python",
   "name": "python",
   "nbconvert_exporter": "python",
   "pygments_lexer": "ipython3",
   "version": "3.11.5"
  }
 },
 "nbformat": 4,
 "nbformat_minor": 2
}
