{
 "cells": [
  {
   "cell_type": "markdown",
   "id": "4683fe92",
   "metadata": {},
   "source": [
    "generate all the possible non-empty subarrays of a given list/arrays"
   ]
  },
  {
   "cell_type": "code",
   "execution_count": 5,
   "id": "8aea3218",
   "metadata": {},
   "outputs": [
    {
     "name": "stdout",
     "output_type": "stream",
     "text": [
      "Subarrays of [1, 2, 3] are:\n",
      "[1]\n",
      "[1, 2]\n",
      "[1, 2, 3]\n",
      "[2]\n",
      "[2, 3]\n",
      "[3]\n",
      "[[1], [1, 2], [1, 2, 3], [2], [2, 3], [3]]\n"
     ]
    }
   ],
   "source": [
    "def generate_subarrays(arr):\n",
    "    \n",
    "    subarrays = []\n",
    "    n = len(arr)\n",
    "\n",
    "    for i in range(n):\n",
    "        for j in range(i, n):\n",
    "            subarrays.append(arr[i:j+1])\n",
    "    return subarrays\n",
    "\n",
    "arr = [1, 2, 3]\n",
    "subarrays = generate_subarrays(arr)\n",
    "print(\"Subarrays of\", arr, \"are:\")\n",
    "for subarray in subarrays:\n",
    "    print(subarray)\n",
    "print(subarrays)"
   ]
  },
  {
   "cell_type": "markdown",
   "id": "59a94b8e",
   "metadata": {},
   "source": [
    "## Maximum Sum Subarray"
   ]
  },
  {
   "cell_type": "code",
   "execution_count": 6,
   "id": "939a3cc7",
   "metadata": {},
   "outputs": [
    {
     "name": "stdout",
     "output_type": "stream",
     "text": [
      "Maximum sum of a contiguous subarray of length 3 is: 12\n"
     ]
    }
   ],
   "source": [
    "##  Brute force approach to find the maximum sum of a contiguous subarray of length k in a given array arr\n",
    "\n",
    "def max_sum_subarray(arr, k):\n",
    "\n",
    "    n = len(arr)\n",
    "    max_sum = float('-inf')\n",
    "    \n",
    "    for i in range(n -k + 1):\n",
    "        current_sum = sum(arr[i:i + k])\n",
    "        max_sum = max(max_sum, current_sum)\n",
    "\n",
    "    return max_sum\n",
    "\n",
    "arr = [1, 2, 3, 4, 5, 2]\n",
    "result = max_sum_subarray(arr, 3)\n",
    "print(\"Maximum sum of a contiguous subarray of length 3 is:\", result)\n"
   ]
  },
  {
   "cell_type": "code",
   "execution_count": null,
   "id": "8aab2fed",
   "metadata": {},
   "outputs": [
    {
     "name": "stdout",
     "output_type": "stream",
     "text": [
      "Maximum sum of a contiguous subarray of length 3 is: 12\n"
     ]
    }
   ],
   "source": [
    "## optimal approach to find the maximum sum of a contiguous subarray of length k in a given array arr\n",
    "## using sliding window technique\n",
    "\n",
    "def maximumSumSubarray(arr, k):\n",
    "    n = len(arr)\n",
    "\n",
    "    if n < k:\n",
    "        return \"Invalid input: k is larger than the array length\"\n",
    "    \n",
    "    window_sum = sum(arr[:k])\n",
    "    max_sum = window_sum\n",
    "\n",
    "    for i in range(k, n):\n",
    "        window_sum = window_sum - arr[i-k] + arr[i]\n",
    "        max_sum = max(max_sum, window_sum)\n",
    "\n",
    "    return max_sum\n",
    "\n",
    "arr = [1, 2, 3, 4, 5, 2]\n",
    "result = maximumSumSubarray(arr, 3)\n",
    "print(\"Maximum sum of a contiguous subarray of length 3 is:\", result)"
   ]
  },
  {
   "cell_type": "markdown",
   "id": "6768cb6c",
   "metadata": {},
   "source": [
    "## Maximum average subarray\n",
    "\n",
    "### Problem : Find the maximum average of a contiguous subarray of length k"
   ]
  },
  {
   "cell_type": "markdown",
   "id": "8861085c",
   "metadata": {},
   "source": [
    "#### BRUTE FROCE\n",
    "- time complexity O(n*k) - for each position we calcaute sum of k elements\n",
    "- space complexity O(i)"
   ]
  },
  {
   "cell_type": "code",
   "execution_count": null,
   "id": "c549ac42",
   "metadata": {},
   "outputs": [
    {
     "name": "stdout",
     "output_type": "stream",
     "text": [
      "Maximum average of a contiguous subarray of length 3 is: 4.0\n"
     ]
    }
   ],
   "source": [
    "def findmaxavgsubarray(arr, k):\n",
    "\n",
    "    n = len(arr)\n",
    "    \n",
    "    max_avg = float('-inf')\n",
    "\n",
    "    for i in range(n - k + 1):\n",
    "        current_sum = sum(arr[i:i+k])\n",
    "        avg = current_sum / k\n",
    "        max_avg =  max(max_avg, avg)\n",
    "\n",
    "    return max_avg\n",
    "\n",
    "arr = [1, 2, 3, 4, 5, 2]\n",
    "k = 3   \n",
    "result = findmaxavgsubarray(arr, k)\n",
    "print(\"Maximum average of a contiguous subarray of length\", k, \"is:\", result)"
   ]
  },
  {
   "cell_type": "markdown",
   "id": "89f30d90",
   "metadata": {},
   "source": [
    "#### Optimal solution (SLIDING WINDOW)\n",
    "\n",
    "- time complexity O(n) - single pass through array\n",
    "- space complexity O(1)"
   ]
  },
  {
   "cell_type": "code",
   "execution_count": 12,
   "metadata": {},
   "outputs": [
    {
     "name": "stdout",
     "output_type": "stream",
     "text": [
      "Maximum average of a contiguous subarray of length 3 is: 5.0\n"
     ]
    }
   ],
   "source": [
    "def findmaxavgsubarray_optimal(arr, k):\n",
    "\n",
    "    n = len(arr)\n",
    "    if n < k:\n",
    "        return 0\n",
    "    \n",
    "    window_sum = sum(arr[:k])\n",
    "    max_sum = window_sum\n",
    "\n",
    "    for i in range(k,n):\n",
    "        window_sum = window_sum - arr[i-k] + arr[i]\n",
    "        max_sum = max(max_sum, window_sum)\n",
    "\n",
    "    return max_sum / k\n",
    "\n",
    "arr = [1, 2, 3, 4, 5, 6]\n",
    "k = 3   \n",
    "result = findmaxavgsubarray_optimal(arr, k)\n",
    "print(\"Maximum average of a contiguous subarray of length\", k, \"is:\", result)"
   ]
  },
  {
   "cell_type": "code",
   "execution_count": null,
   "id": "bb8069e6",
   "metadata": {},
   "outputs": [],
   "source": []
  },
  {
   "cell_type": "code",
   "execution_count": null,
   "id": "e6536e1e",
   "metadata": {},
   "outputs": [],
   "source": []
  },
  {
   "cell_type": "code",
   "execution_count": null,
   "id": "9e757bf1",
   "metadata": {},
   "outputs": [],
   "source": []
  },
  {
   "cell_type": "code",
   "execution_count": null,
   "id": "5221843f",
   "metadata": {},
   "outputs": [],
   "source": []
  }
 ],
 "metadata": {
  "kernelspec": {
   "display_name": "base",
   "language": "python",
   "name": "python3"
  },
  "language_info": {
   "codemirror_mode": {
    "name": "ipython",
    "version": 3
   },
   "file_extension": ".py",
   "mimetype": "text/x-python",
   "name": "python",
   "nbconvert_exporter": "python",
   "pygments_lexer": "ipython3",
   "version": "3.12.7"
  }
 },
 "nbformat": 4,
 "nbformat_minor": 5
}
