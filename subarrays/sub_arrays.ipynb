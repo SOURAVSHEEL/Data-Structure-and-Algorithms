{
 "cells": [
  {
   "cell_type": "markdown",
   "id": "4683fe92",
   "metadata": {},
   "source": [
    "generate all the possible non-empty subarrays of a given list/arrays"
   ]
  },
  {
   "cell_type": "code",
   "execution_count": 5,
   "id": "8aea3218",
   "metadata": {},
   "outputs": [
    {
     "name": "stdout",
     "output_type": "stream",
     "text": [
      "Subarrays of [1, 2, 3] are:\n",
      "[1]\n",
      "[1, 2]\n",
      "[1, 2, 3]\n",
      "[2]\n",
      "[2, 3]\n",
      "[3]\n",
      "[[1], [1, 2], [1, 2, 3], [2], [2, 3], [3]]\n"
     ]
    }
   ],
   "source": [
    "def generate_subarrays(arr):\n",
    "    \n",
    "    subarrays = []\n",
    "    n = len(arr)\n",
    "\n",
    "    for i in range(n):\n",
    "        for j in range(i, n):\n",
    "            subarrays.append(arr[i:j+1])\n",
    "    return subarrays\n",
    "\n",
    "arr = [1, 2, 3]\n",
    "subarrays = generate_subarrays(arr)\n",
    "print(\"Subarrays of\", arr, \"are:\")\n",
    "for subarray in subarrays:\n",
    "    print(subarray)\n",
    "print(subarrays)"
   ]
  },
  {
   "cell_type": "markdown",
   "id": "59a94b8e",
   "metadata": {},
   "source": [
    "## Maximum Sum Subarray"
   ]
  },
  {
   "cell_type": "code",
   "execution_count": 6,
   "id": "939a3cc7",
   "metadata": {},
   "outputs": [
    {
     "name": "stdout",
     "output_type": "stream",
     "text": [
      "Maximum sum of a contiguous subarray of length 3 is: 12\n"
     ]
    }
   ],
   "source": [
    "##  Brute force approach to find the maximum sum of a contiguous subarray of length k in a given array arr\n",
    "\n",
    "def max_sum_subarray(arr, k):\n",
    "\n",
    "    n = len(arr)\n",
    "    max_sum = float('-inf')\n",
    "    \n",
    "    for i in range(n -k + 1):\n",
    "        current_sum = sum(arr[i:i + k])\n",
    "        max_sum = max(max_sum, current_sum)\n",
    "\n",
    "    return max_sum\n",
    "\n",
    "arr = [1, 2, 3, 4, 5, 2]\n",
    "result = max_sum_subarray(arr, 3)\n",
    "print(\"Maximum sum of a contiguous subarray of length 3 is:\", result)\n"
   ]
  },
  {
   "cell_type": "code",
   "execution_count": null,
   "id": "8aab2fed",
   "metadata": {},
   "outputs": [
    {
     "name": "stdout",
     "output_type": "stream",
     "text": [
      "Maximum sum of a contiguous subarray of length 3 is: 12\n"
     ]
    }
   ],
   "source": [
    "## optimal approach to find the maximum sum of a contiguous subarray of length k in a given array arr\n",
    "## using sliding window technique\n",
    "\n",
    "def maximumSumSubarray(arr, k):\n",
    "    n = len(arr)\n",
    "\n",
    "    if n < k:\n",
    "        return \"Invalid input: k is larger than the array length\"\n",
    "    \n",
    "    window_sum = sum(arr[:k])\n",
    "    max_sum = window_sum\n",
    "\n",
    "    for i in range(k, n):\n",
    "        window_sum = window_sum - arr[i-k] + arr[i]\n",
    "        max_sum = max(max_sum, window_sum)\n",
    "\n",
    "    return max_sum\n",
    "\n",
    "arr = [1, 2, 3, 4, 5, 2]\n",
    "result = maximumSumSubarray(arr, 3)\n",
    "print(\"Maximum sum of a contiguous subarray of length 3 is:\", result)"
   ]
  },
  {
   "cell_type": "markdown",
   "id": "6768cb6c",
   "metadata": {},
   "source": [
    "## Maximum average subarray\n",
    "\n",
    "### Problem : Find the maximum average of a contiguous subarray of length k"
   ]
  },
  {
   "cell_type": "markdown",
   "id": "8861085c",
   "metadata": {},
   "source": [
    "#### BRUTE FROCE\n",
    "- time complexity O(n*k) - for each position we calcaute sum of k elements\n",
    "- space complexity O(i)"
   ]
  },
  {
   "cell_type": "code",
   "execution_count": null,
   "id": "c549ac42",
   "metadata": {},
   "outputs": [
    {
     "name": "stdout",
     "output_type": "stream",
     "text": [
      "Maximum average of a contiguous subarray of length 3 is: 4.0\n"
     ]
    }
   ],
   "source": [
    "def findmaxavgsubarray(arr, k):\n",
    "\n",
    "    n = len(arr)\n",
    "    \n",
    "    max_avg = float('-inf')\n",
    "\n",
    "    for i in range(n - k + 1):\n",
    "        current_sum = sum(arr[i:i+k])\n",
    "        avg = current_sum / k\n",
    "        max_avg =  max(max_avg, avg)\n",
    "\n",
    "    return max_avg\n",
    "\n",
    "arr = [1, 2, 3, 4, 5, 2]\n",
    "k = 3   \n",
    "result = findmaxavgsubarray(arr, k)\n",
    "print(\"Maximum average of a contiguous subarray of length\", k, \"is:\", result)"
   ]
  },
  {
   "cell_type": "markdown",
   "id": "89f30d90",
   "metadata": {},
   "source": [
    "#### Optimal solution (SLIDING WINDOW)\n",
    "\n",
    "- time complexity O(n) - single pass through array\n",
    "- space complexity O(1)"
   ]
  },
  {
   "cell_type": "code",
   "execution_count": 12,
   "metadata": {},
   "outputs": [
    {
     "name": "stdout",
     "output_type": "stream",
     "text": [
      "Maximum average of a contiguous subarray of length 3 is: 5.0\n"
     ]
    }
   ],
   "source": [
    "def findmaxavgsubarray_optimal(arr, k):\n",
    "\n",
    "    n = len(arr)\n",
    "    if n < k:\n",
    "        return 0\n",
    "    \n",
    "    window_sum = sum(arr[:k])\n",
    "    max_sum = window_sum\n",
    "\n",
    "    for i in range(k,n):\n",
    "        window_sum = window_sum - arr[i-k] + arr[i]\n",
    "        max_sum = max(max_sum, window_sum)\n",
    "\n",
    "    return max_sum / k\n",
    "\n",
    "arr = [1, 2, 3, 4, 5, 6]\n",
    "k = 3   \n",
    "result = findmaxavgsubarray_optimal(arr, k)\n",
    "print(\"Maximum average of a contiguous subarray of length\", k, \"is:\", result)"
   ]
  },
  {
   "cell_type": "markdown",
   "id": "6153878e",
   "metadata": {},
   "source": [
    "##  Subarray Sum Equals K\n",
    "\n",
    "### Problem: Count the number of subarrays whose sum equals k."
   ]
  },
  {
   "cell_type": "markdown",
   "id": "116a8a83",
   "metadata": {},
   "source": [
    "#### Brute Force Solution"
   ]
  },
  {
   "cell_type": "code",
   "execution_count": 5,
   "id": "e85b3620",
   "metadata": {},
   "outputs": [
    {
     "name": "stdout",
     "output_type": "stream",
     "text": [
      "Number of subarrays with sum equal to 5 is: 2\n"
     ]
    }
   ],
   "source": [
    "def subarray_sum(arr, k):\n",
    "\n",
    "    count = 0\n",
    "\n",
    "    n = len(arr)\n",
    "\n",
    "    for i in range(n):\n",
    "        for j in range(i, n):\n",
    "            subarray_sum = sum(arr[i:j+1])\n",
    "            if subarray_sum == k:\n",
    "                count += 1\n",
    "    return count\n",
    "\n",
    "arr = [1, 2, 3, 4, 5]\n",
    "k = 5\n",
    "result = subarray_sum(arr, k)\n",
    "print(\"Number of subarrays with sum equal to\", k, \"is:\", result)"
   ]
  },
  {
   "cell_type": "code",
   "execution_count": null,
   "id": "bb8069e6",
   "metadata": {},
   "outputs": [
    {
     "name": "stdout",
     "output_type": "stream",
     "text": [
      "Number of subarrays with sum equal to 5 is: 2\n",
      "The subarrays are:\n",
      "1. [2, 3]\n",
      "2. [5]\n"
     ]
    }
   ],
   "source": [
    "def subarray_sum(arr, k):\n",
    "    count = 0\n",
    "    sub = []\n",
    "    n = len(arr)\n",
    "\n",
    "    for i in range(n):\n",
    "        for j in range(i, n):\n",
    "            subarray = arr[i:j+1]\n",
    "            subarray_sum = sum(subarray)\n",
    "            if subarray_sum == k:\n",
    "                sub.append(subarray)\n",
    "                count += 1\n",
    "    return count, sub\n",
    "\n",
    "arr = [1, 2, 3, 4, 5]\n",
    "k = 5\n",
    "count, subarrays = subarray_sum(arr, k)\n",
    "\n",
    "print(\"Number of subarrays with sum equal to\", k, \"is:\", count)\n",
    "print(\"The subarrays are:\")\n",
    "for i, subarray in enumerate(subarrays, 1):\n",
    "    print(f\"{i}. {subarray}\")\n"
   ]
  },
  {
   "cell_type": "markdown",
   "id": "4f0e533e",
   "metadata": {},
   "source": [
    "####  Improved Brute Force"
   ]
  },
  {
   "cell_type": "code",
   "execution_count": 7,
   "id": "e6536e1e",
   "metadata": {},
   "outputs": [
    {
     "name": "stdout",
     "output_type": "stream",
     "text": [
      "Number of subarrays with sum equal to 5 is: 2\n"
     ]
    }
   ],
   "source": [
    "def subarraySum(arr, k):\n",
    "    count = 0\n",
    "\n",
    "    n = len(arr)\n",
    "    for i in range(n):\n",
    "        current_sum = 0\n",
    "        for j in range(i, n):\n",
    "            current_sum += arr[j]\n",
    "            if current_sum == k:\n",
    "                count += 1\n",
    "\n",
    "    return count\n",
    "\n",
    "arr = [1, 2, 3, 4, 5]\n",
    "k = 5\n",
    "result = subarraySum(arr, k)\n",
    "print(\"Number of subarrays with sum equal to\", k, \"is:\", result)"
   ]
  },
  {
   "cell_type": "code",
   "execution_count": 9,
   "id": "5221843f",
   "metadata": {},
   "outputs": [
    {
     "name": "stdout",
     "output_type": "stream",
     "text": [
      "Number of subarrays with sum equal to 5 is: 2\n"
     ]
    }
   ],
   "source": [
    "def subarray_sum_optimal(arr, k):\n",
    "    count = 0\n",
    "    n = len(arr)\n",
    "    sum_frequency = {0:1}\n",
    "    prefix_sum = 0\n",
    "\n",
    "    for i in range(n):\n",
    "        prefix_sum += arr[i]\n",
    "        target_sum = prefix_sum - k\n",
    "        if target_sum in sum_frequency:\n",
    "            count +=  sum_frequency[target_sum]\n",
    "\n",
    "        sum_frequency[prefix_sum] = sum_frequency.get(prefix_sum, 0) + 1\n",
    "\n",
    "    return count\n",
    "\n",
    "arr = [1, 2, 3, 4, 5]\n",
    "k = 5   \n",
    "result = subarray_sum_optimal(arr, k)\n",
    "print(\"Number of subarrays with sum equal to\", k, \"is:\", result)    "
   ]
  },
  {
   "cell_type": "markdown",
   "id": "4bfd969c",
   "metadata": {},
   "source": [
    "## Maximum Subarray Sum (Kadane's Algorithm)\n",
    "\n",
    "###  Problem: Find the maximum sum of any contiguous subarray or Given an array of integers (which can include negative numbers), find the maximum sum of any contiguous subarray."
   ]
  },
  {
   "cell_type": "markdown",
   "id": "8dafdf84",
   "metadata": {},
   "source": [
    "The straightforward approach is to check all possible subarrays:\n",
    "\n",
    "- For each starting position i, check all ending positions j\n",
    "\n",
    "- Calculate sum of subarray from i to j\n",
    "\n",
    "-  Keep track of maximum sum found\n",
    "\n",
    "Time Complexity: O(n³) or O(n²) with optimization"
   ]
  },
  {
   "cell_type": "code",
   "execution_count": 10,
   "id": "ff6ecbdc",
   "metadata": {},
   "outputs": [
    {
     "name": "stdout",
     "output_type": "stream",
     "text": [
      "Maximum subarray sum is: 6\n"
     ]
    }
   ],
   "source": [
    "def maxSubarrySum(arr):\n",
    "\n",
    "    n = len(arr)\n",
    "\n",
    "    max_sum  = float('-inf')\n",
    "    \n",
    "    for i in range(n):\n",
    "        for j in range(i, n):\n",
    "            current_sum = sum(arr[i:j+1])\n",
    "            max_sum = max(max_sum, current_sum)\n",
    "\n",
    "    return max_sum\n",
    "\n",
    "arr = [-2,1,-3,4,-1,2,1,-5,4]\n",
    "result = maxSubarrySum(arr)\n",
    "print(\"Maximum subarray sum is:\", result)   "
   ]
  },
  {
   "cell_type": "markdown",
   "id": "00827ab8",
   "metadata": {},
   "source": [
    "#### Kadane's Algorithm\n",
    "\n",
    "The key insight is: At each position, we have two choices:\n",
    "\n",
    "- Start a new subarray from current element\n",
    "\n",
    "- Extend the previous subarray by including current element\n",
    "\n",
    "We choose whichever gives us a larger sum!\n",
    "\n",
    "            current_sum = max(arr[i], current_sum + arr[i])\n"
   ]
  },
  {
   "cell_type": "markdown",
   "id": "20fb4ed2",
   "metadata": {},
   "source": [
    "Why this works:\n",
    "\n",
    "- If current_sum + arr[i] is smaller than arr[i] alone, it means the previous subarray was dragging us down\n",
    "\n",
    "- So we \"reset\" and start fresh from current element\n",
    "\n",
    "- If current_sum + arr[i] is larger, we continue building the subarray"
   ]
  },
  {
   "cell_type": "markdown",
   "id": "09b2dc94",
   "metadata": {},
   "source": [
    "            Index: 0   1   2   3   4   5   6   7   8\n",
    "            Array: -2  1  -3   4  -1   2   1  -5   4\n",
    "\n",
    "            i=0: current_sum = max(-2, -∞ + (-2)) = -2, max_sum = -2\n",
    "            i=1: current_sum = max(1, -2 + 1) = 1, max_sum = 1\n",
    "            i=2: current_sum = max(-3, 1 + (-3)) = -2, max_sum = 1\n",
    "            i=3: current_sum = max(4, -2 + 4) = 4, max_sum = 4\n",
    "            i=4: current_sum = max(-1, 4 + (-1)) = 3, max_sum = 4\n",
    "            i=5: current_sum = max(2, 3 + 2) = 5, max_sum = 5\n",
    "            i=6: current_sum = max(1, 5 + 1) = 6, max_sum = 6\n",
    "            i=7: current_sum = max(-5, 6 + (-5)) = 1, max_sum = 6\n",
    "            i=8: current_sum = max(4, 1 + 4) = 5, max_sum = 6\n",
    "            \n",
    "Final answer: 6"
   ]
  },
  {
   "cell_type": "markdown",
   "id": "c9123ef8",
   "metadata": {},
   "source": [
    "- Time Complexity: O(n) - single pass through array\n",
    "\n",
    "-  Space Complexity: O(1) - only using few variables\n",
    "\n",
    "-  Handles negative numbers elegantly\n",
    "\n",
    "- Works for all negative arrays (returns the least negative number)"
   ]
  },
  {
   "cell_type": "code",
   "execution_count": 11,
   "id": "0d1217f4",
   "metadata": {},
   "outputs": [
    {
     "name": "stdout",
     "output_type": "stream",
     "text": [
      "Maximum subarray sum: 6\n"
     ]
    }
   ],
   "source": [
    "def kadaneAlgorithm(arr):\n",
    "\n",
    "    if not arr:\n",
    "        return 0\n",
    "    \n",
    "    current_sum = arr[0]\n",
    "    max_sum = arr[0]\n",
    "\n",
    "    for i in range(1, len(arr)):\n",
    "        # either start a new subarray or  extend the curent one\n",
    "        current_sum  = max(arr[i], current_sum + arr[i])\n",
    "        # update teh maximum \n",
    "        max_sum = max(max_sum, current_sum)\n",
    "\n",
    "    return max_sum\n",
    "\n",
    "arr = [-2, 1, -3, 4, -1, 2, 1, -5, 4]\n",
    "result = kadaneAlgorithm(arr)\n",
    "print(f\"Maximum subarray sum: {result}\")"
   ]
  },
  {
   "cell_type": "code",
   "execution_count": null,
   "id": "6111211a",
   "metadata": {},
   "outputs": [
    {
     "name": "stdout",
     "output_type": "stream",
     "text": [
      "Maximum subarray sum: 6\n",
      "Subarray with maximum sum: [4, -1, 2, 1]\n"
     ]
    }
   ],
   "source": [
    "def kadaneAlgorithm_with_subarray(arr):\n",
    "    if not arr:\n",
    "        return 0, []\n",
    "    \n",
    "    current_sum = arr[0]\n",
    "    max_sum = arr[0]\n",
    "    start = 0\n",
    "    end = 0\n",
    "    temp_start  =  0\n",
    "\n",
    "    for i in  range(1, len(arr)):\n",
    "        if arr[i] > current_sum + arr[i]:\n",
    "            current_sum = arr[i]\n",
    "            temp_start = i \n",
    "        else:\n",
    "            current_sum += arr[i]\n",
    "        \n",
    "        if current_sum > max_sum:\n",
    "            max_sum = current_sum\n",
    "            start = temp_start\n",
    "            end = i\n",
    "\n",
    "    return max_sum, arr[start:end+1]\n",
    "\n",
    "arr = [-2, 1, -3, 4, -1, 2, 1, -5, 4]\n",
    "result, subarray = kadaneAlgorithm_with_subarray(arr)   \n",
    "print(f\"Maximum subarray sum: {result}\")\n",
    "print(f\"Subarray with maximum sum: {subarray}\")"
   ]
  }
 ],
 "metadata": {
  "kernelspec": {
   "display_name": "base",
   "language": "python",
   "name": "python3"
  },
  "language_info": {
   "codemirror_mode": {
    "name": "ipython",
    "version": 3
   },
   "file_extension": ".py",
   "mimetype": "text/x-python",
   "name": "python",
   "nbconvert_exporter": "python",
   "pygments_lexer": "ipython3",
   "version": "3.12.7"
  }
 },
 "nbformat": 4,
 "nbformat_minor": 5
}
