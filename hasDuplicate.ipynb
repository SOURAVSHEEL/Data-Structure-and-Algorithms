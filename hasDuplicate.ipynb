{
 "cells": [
  {
   "cell_type": "markdown",
   "metadata": {},
   "source": [
    "## Duplicate Integer"
   ]
  },
  {
   "cell_type": "markdown",
   "metadata": {},
   "source": [
    "Given an integer array nums, return true if any value appears more than once in the array, otherwise return false."
   ]
  },
  {
   "cell_type": "markdown",
   "metadata": {},
   "source": [
    "Example 1:\n",
    "\n",
    "Input: nums = [1, 2, 3, 3]\n",
    "\n",
    "Output: true"
   ]
  },
  {
   "cell_type": "markdown",
   "metadata": {},
   "source": [
    "Example 2:\n",
    "\n",
    "Input: nums = [1, 2, 3, 4]\n",
    "\n",
    "Output: false"
   ]
  },
  {
   "cell_type": "code",
   "execution_count": 1,
   "metadata": {},
   "outputs": [],
   "source": [
    "def hasduplicate(arr):\n",
    "    unique = set()\n",
    "    for i in arr:\n",
    "        if i in unique:\n",
    "            return True\n",
    "        unique.add(i)\n",
    "    return False"
   ]
  },
  {
   "cell_type": "code",
   "execution_count": 2,
   "metadata": {},
   "outputs": [
    {
     "name": "stdout",
     "output_type": "stream",
     "text": [
      "True\n",
      "False\n"
     ]
    }
   ],
   "source": [
    "arr1 = [1,2,3,4,4,5]\n",
    "arr2 = [1,2,3,4,5,6]\n",
    "\n",
    "result1 = hasduplicate(arr1)\n",
    "result2 = hasduplicate(arr2)\n",
    "\n",
    "print(result1)\n",
    "print(result2)"
   ]
  },
  {
   "cell_type": "markdown",
   "metadata": {},
   "source": [
    "## Find All Duplicates in an Array\n",
    "\n",
    "Given an integer array (nums) of length n where all the integers of (nums) are in the range[1, n] and each integer appears once or twice return an array of all integers that appears twice\n",
    "\n",
    "Example 1:\n",
    "\n",
    "Input: nums = [4,3,2,7,8,2,3,1]\n",
    "\n",
    "Output: [2,3]\n",
    "\n",
    "Example 2:\n",
    "\n",
    "Input: nums = [1,1,2]\n",
    "\n",
    "Output: [1]\n",
    "\n",
    "Example 3:\n",
    "\n",
    "Input: nums = [1]\n",
    "\n",
    "Output: []\n",
    "\n",
    " \n",
    "Constraints:\n",
    "\n",
    "n == nums.length\n",
    "\n",
    "1 <= n <= 105\n",
    "\n",
    "1 <= nums[i] <= n\n",
    "\n",
    "Each element in nums appears once or twice."
   ]
  },
  {
   "cell_type": "code",
   "execution_count": 3,
   "metadata": {},
   "outputs": [],
   "source": [
    "def duplicate(nums):\n",
    "    a = set()\n",
    "    b = []\n",
    "    for i in nums:\n",
    "        if i in a:\n",
    "            b.append(i)\n",
    "        a.add(i)\n",
    "    return b"
   ]
  },
  {
   "cell_type": "code",
   "execution_count": 4,
   "metadata": {},
   "outputs": [
    {
     "data": {
      "text/plain": [
       "[2, 3]"
      ]
     },
     "execution_count": 4,
     "metadata": {},
     "output_type": "execute_result"
    }
   ],
   "source": [
    "nums = [4,3,2,7,8,2,3,1]\n",
    "\n",
    "duplicate(nums)"
   ]
  },
  {
   "cell_type": "code",
   "execution_count": 5,
   "metadata": {},
   "outputs": [
    {
     "data": {
      "text/plain": [
       "['a', 'f', 'f', 'v']"
      ]
     },
     "execution_count": 5,
     "metadata": {},
     "output_type": "execute_result"
    }
   ],
   "source": [
    "char = \"abcdefgaffvv\"\n",
    "\n",
    "duplicate(char)"
   ]
  },
  {
   "cell_type": "code",
   "execution_count": 6,
   "metadata": {},
   "outputs": [
    {
     "data": {
      "text/plain": [
       "['$', '%', '$', '#', '@']"
      ]
     },
     "execution_count": 6,
     "metadata": {},
     "output_type": "execute_result"
    }
   ],
   "source": [
    "char1 = \"!@#$%$%$#@\"\n",
    "\n",
    "duplicate(char1)\n"
   ]
  },
  {
   "cell_type": "code",
   "execution_count": 7,
   "metadata": {},
   "outputs": [
    {
     "data": {
      "text/plain": [
       "['r', 's', 'e', 'S']"
      ]
     },
     "execution_count": 7,
     "metadata": {},
     "output_type": "execute_result"
    }
   ],
   "source": [
    "def duplicatechar(char):\n",
    "    a = set()\n",
    "    b = []\n",
    "    for i in char:\n",
    "        if i in a:\n",
    "            b.append(i)\n",
    "        a.add(i)\n",
    "    return b\n",
    "\n",
    "\n",
    "\n",
    "char = \"souravkrsheelSKS\"\n",
    "\n",
    "duplicatechar(char)"
   ]
  },
  {
   "cell_type": "code",
   "execution_count": 8,
   "metadata": {},
   "outputs": [
    {
     "data": {
      "text/plain": [
       "['r', 's', 'e', 's', 'k', 's']"
      ]
     },
     "execution_count": 8,
     "metadata": {},
     "output_type": "execute_result"
    }
   ],
   "source": [
    "def duplicatechar(char):\n",
    "    a = set()\n",
    "    b = []\n",
    "    for i in char.lower():\n",
    "        if i in a:\n",
    "            b.append(i)\n",
    "        a.add(i)\n",
    "    return b\n",
    "\n",
    "\n",
    "\n",
    "char = \"souravkrsheelSKS\"\n",
    "\n",
    "duplicatechar(char)"
   ]
  }
 ],
 "metadata": {
  "kernelspec": {
   "display_name": "base",
   "language": "python",
   "name": "python3"
  },
  "language_info": {
   "codemirror_mode": {
    "name": "ipython",
    "version": 3
   },
   "file_extension": ".py",
   "mimetype": "text/x-python",
   "name": "python",
   "nbconvert_exporter": "python",
   "pygments_lexer": "ipython3",
   "version": "3.12.7"
  }
 },
 "nbformat": 4,
 "nbformat_minor": 2
}
