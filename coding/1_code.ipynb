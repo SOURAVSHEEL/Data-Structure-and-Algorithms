{
 "cells": [
  {
   "cell_type": "code",
   "execution_count": null,
   "id": "0c96ba84",
   "metadata": {},
   "outputs": [
    {
     "name": "stdout",
     "output_type": "stream",
     "text": [
      "3\n"
     ]
    }
   ],
   "source": [
    "## Count the number of vowels in a string\n",
    "def count_vowels(s):\n",
    "    vowels = \"aeiouAEIOU\"\n",
    "    count =  0\n",
    "    for i in s:\n",
    "        if i in vowels:\n",
    "            count += 1\n",
    "    return count\n",
    "\n",
    "print(count_vowels(\"Hello World\"))"
   ]
  },
  {
   "cell_type": "code",
   "execution_count": null,
   "id": "cfb011b7",
   "metadata": {},
   "outputs": [],
   "source": [
    "## find the highest occurrences of each word from string and sort them\n",
    "\n",
    "def highest_occurrences(s):\n",
    "    words = s.split()\n",
    "    word_count = {}\n",
    "    \n",
    "    for word in words:\n",
    "        word = word.lower()  # Normalize to lowercase\n",
    "        if word in word_count:\n",
    "            word_count[word] += 1\n",
    "        else:\n",
    "            word_count[word] = 1\n",
    "    \n",
    "    # Sort by occurrences (highest first) and then alphabetically\n",
    "    sorted_words = sorted(word_count.items(), key=lambda item: (-item[1], item[0]))\n",
    "    \n",
    "    return sorted_words"
   ]
  },
  {
   "cell_type": "code",
   "execution_count": 8,
   "id": "4b50886e",
   "metadata": {},
   "outputs": [
    {
     "name": "stdout",
     "output_type": "stream",
     "text": [
      "Counter({'hello': 3, 'world': 2})\n",
      "Counter({'python': 2, 'is': 2, 'great': 1, 'and': 1, 'fun': 1})\n",
      "Counter({'apple': 3, 'banana': 2, 'orange': 1})\n",
      "Counter({'this': 2, 'is': 2, 'a': 2, 'test.': 2, 'test': 1, 'only': 1})\n"
     ]
    }
   ],
   "source": [
    "from collections import Counter\n",
    "\n",
    "def highest_occurrences(s):\n",
    "    words = s.split()\n",
    "    words = [word.lower() for word in words]\n",
    "    word_count = Counter(words)\n",
    "    return word_count\n",
    "\n",
    "print(highest_occurrences(\"Hello world hello world hello\"))\n",
    "print(highest_occurrences(\"Python is great and python is fun\"))\n",
    "print(highest_occurrences(\"apple banana apple orange banana apple\"))\n",
    "print(highest_occurrences(\"This is a test. This test is only a test.\"))"
   ]
  },
  {
   "cell_type": "code",
   "execution_count": 10,
   "id": "da6d9a8f",
   "metadata": {},
   "outputs": [
    {
     "name": "stdout",
     "output_type": "stream",
     "text": [
      "[('hello', 3), ('world', 2)]\n",
      "[('is', 2), ('python', 2), ('and', 1), ('fun', 1), ('great', 1)]\n",
      "[('apple', 3), ('banana', 2), ('orange', 1)]\n",
      "[('a', 2), ('is', 2), ('test.', 2), ('this', 2), ('only', 1), ('test', 1)]\n"
     ]
    }
   ],
   "source": [
    "def highest_occurrences(s): \n",
    "    words = s.split()\n",
    "    words = [word.lower() for word in words]\n",
    "    word_count = Counter(words)\n",
    "    sorted_words = sorted(word_count.items(), key=lambda item: (-item[1], item[0]))\n",
    "    return sorted_words\n",
    "\n",
    "print(highest_occurrences(\"Hello world hello world hello\"))\n",
    "print(highest_occurrences(\"Python is great and python is fun\"))\n",
    "print(highest_occurrences(\"apple banana apple orange banana apple\"))\n",
    "print(highest_occurrences(\"This is a test. This test is only a test.\"))\n"
   ]
  },
  {
   "cell_type": "code",
   "execution_count": 11,
   "id": "c0982f64",
   "metadata": {},
   "outputs": [
    {
     "name": "stdout",
     "output_type": "stream",
     "text": [
      "[('hello', 3), ('world', 2)]\n",
      "[('python', 2), ('is', 2), ('great', 1), ('and', 1), ('fun', 1)]\n",
      "[('apple', 3), ('banana', 2), ('orange', 1)]\n",
      "[('this', 2), ('is', 2), ('a', 2), ('test.', 2), ('test', 1), ('only', 1)]\n"
     ]
    }
   ],
   "source": [
    "def highest_occurrences(s): \n",
    "    words = s.split()\n",
    "    words = [word.lower() for word in words]\n",
    "    word_count = Counter(words)\n",
    "    sorted_words = sorted(word_count.items(), key=lambda x:x[1],reverse=True)\n",
    "    return sorted_words\n",
    "\n",
    "print(highest_occurrences(\"Hello world hello world hello\"))\n",
    "print(highest_occurrences(\"Python is great and python is fun\"))\n",
    "print(highest_occurrences(\"apple banana apple orange banana apple\"))\n",
    "print(highest_occurrences(\"This is a test. This test is only a test.\"))\n"
   ]
  },
  {
   "cell_type": "code",
   "execution_count": 12,
   "id": "b5256fcf",
   "metadata": {},
   "outputs": [
    {
     "name": "stdout",
     "output_type": "stream",
     "text": [
      "[('hello', 3), ('world', 2)]\n",
      "[('is', 2), ('python', 2), ('and', 1), ('fun', 1), ('great', 1)]\n",
      "[('apple', 3), ('banana', 2), ('orange', 1)]\n",
      "[('a', 2), ('is', 2), ('test.', 2), ('this', 2), ('only', 1), ('test', 1)]\n"
     ]
    }
   ],
   "source": [
    "def highest_occurrences(s):\n",
    "\n",
    "    words = s.split()\n",
    "    word_count = {}\n",
    "\n",
    "    for word in words:\n",
    "        word = word.lower()\n",
    "        if word in word_count:\n",
    "            word_count[word]+=1\n",
    "        else:\n",
    "            word_count[word]= 1\n",
    "    \n",
    "    sorted_words = sorted(word_count.items(), key=lambda x: (-x[1], x[0]))\n",
    "\n",
    "    return sorted_words\n",
    "print(highest_occurrences(\"Hello world hello world hello\"))\n",
    "print(highest_occurrences(\"Python is great and python is fun\"))\n",
    "print(highest_occurrences(\"apple banana apple orange banana apple\"))   \n",
    "print(highest_occurrences(\"This is a test. This test is only a test.\"))\n"
   ]
  },
  {
   "cell_type": "code",
   "execution_count": 13,
   "id": "22806b23",
   "metadata": {},
   "outputs": [],
   "source": [
    "## remove duplicate from list\n",
    "\n",
    "def remove_duplicates(lst):\n",
    "    seen = set()\n",
    "    result = []\n",
    "    for item in lst:\n",
    "        if item not in seen:\n",
    "            seen.add(item)\n",
    "            result.append(item)\n",
    "    return result"
   ]
  },
  {
   "cell_type": "code",
   "execution_count": 14,
   "id": "3bb004cf",
   "metadata": {},
   "outputs": [],
   "source": [
    "## remove duplicates from list while preserving order\n",
    "\n",
    "def remove_duplicates(lst):\n",
    "    seen = set()\n",
    "    result = []\n",
    "    for item in lst:\n",
    "        if item not in seen:\n",
    "            seen.add(item)\n",
    "            result.append(item)\n",
    "    return result\n"
   ]
  },
  {
   "cell_type": "code",
   "execution_count": 15,
   "id": "018c0366",
   "metadata": {},
   "outputs": [
    {
     "name": "stdout",
     "output_type": "stream",
     "text": [
      "[1, 2, 5, 5, 6, 9]\n"
     ]
    }
   ],
   "source": [
    "##   sort a list withour using sort()\n",
    "\n",
    "def sort_list(lst):\n",
    "    for i in range(len(lst)):\n",
    "        for j in range(i+1, len(lst)):\n",
    "            if lst[i]>lst[j]:\n",
    "                lst[i],lst[j]=lst[j],lst[i]\n",
    "    return lst\n",
    "\n",
    "lst = [5, 2, 9, 1, 5, 6]\n",
    "print(sort_list(lst))"
   ]
  },
  {
   "cell_type": "code",
   "execution_count": 17,
   "id": "ef7a7125",
   "metadata": {},
   "outputs": [
    {
     "name": "stdout",
     "output_type": "stream",
     "text": [
      "[(3, 4), (2, 5), (1, 6)]\n"
     ]
    }
   ],
   "source": [
    "## find the pair of numbers that sum to a target value\n",
    "def find_pairs(lst, target):\n",
    "    pairs = []\n",
    "    seen = set()\n",
    "    for num in lst:\n",
    "        complement = target - num\n",
    "        if complement in seen:\n",
    "            pairs.append((complement, num))\n",
    "        seen.add(num)\n",
    "    return pairs\n",
    "\n",
    "\n",
    "lst = [1, 2, 3, 4, 5, 6,8]\n",
    "target = 7  \n",
    "print(find_pairs(lst, target))"
   ]
  },
  {
   "cell_type": "code",
   "execution_count": 18,
   "id": "f65665b3",
   "metadata": {},
   "outputs": [
    {
     "name": "stdout",
     "output_type": "stream",
     "text": [
      "[(2, 3), (1, 4), (0, 5)]\n"
     ]
    }
   ],
   "source": [
    "## find the index pair of numbers that sum to a target value\n",
    "def find_index_pairs(lst, target):\n",
    "    num_dict = {}\n",
    "    pairs = []\n",
    "    for i, num in enumerate(lst):\n",
    "        complement = target - num\n",
    "        if complement in num_dict:\n",
    "            pairs.append((num_dict[complement], i))\n",
    "        num_dict[num] = i\n",
    "    return pairs\n",
    "lst = [1, 2, 3, 4, 5, 6, 8]\n",
    "target = 7  \n",
    "print(find_index_pairs(lst, target))"
   ]
  },
  {
   "cell_type": "code",
   "execution_count": null,
   "id": "809d61ae",
   "metadata": {},
   "outputs": [],
   "source": [
    "## Find Max and Min Without Using Inbuilt Functions\n",
    "def find_max_min(lst):\n",
    "    if not lst:\n",
    "        return None, None\n",
    "    max_val = min_val = lst[0]\n",
    "    for num in lst[1:]:\n",
    "        if num > max_val:\n",
    "            max_val = num\n",
    "        if num < min_val:\n",
    "            min_val = num\n",
    "    return max_val, min_val\n"
   ]
  },
  {
   "cell_type": "code",
   "execution_count": null,
   "id": "86e682c5",
   "metadata": {},
   "outputs": [],
   "source": [
    "## find max and min using two pointers\n",
    "def find_max_min(lst):\n",
    "    if not lst:\n",
    "        return None, None\n",
    "    left = 0\n",
    "    right = len(lst) - 1\n",
    "    max_val = min_val = lst[0]\n",
    "    while left <= right:\n",
    "        if lst[left] > max_val:\n",
    "            max_val = lst[left]\n",
    "        if lst[right] < min_val:\n",
    "            min_val = lst[right]\n",
    "        left += 1\n",
    "        right -= 1\n",
    "    return max_val, min_val\n"
   ]
  },
  {
   "cell_type": "code",
   "execution_count": 19,
   "id": "6816e607",
   "metadata": {},
   "outputs": [
    {
     "name": "stdout",
     "output_type": "stream",
     "text": [
      "(9, 1)\n"
     ]
    }
   ],
   "source": [
    "def find_max_min(lst):\n",
    "\n",
    "    left  = 0\n",
    "    right = len(lst)-1\n",
    "    max_val = min_val = lst[0]\n",
    "\n",
    "    while left  <= right:\n",
    "        for i in (lst[left],lst[right]):\n",
    "            if i > max_val:\n",
    "                max_val = i\n",
    "            if i < min_val:\n",
    "                min_val = i\n",
    "        left += 1\n",
    "        right -= 1\n",
    "\n",
    "    return max_val, min_val\n",
    "lst = [3, 1, 4, 1, 5, 9, 2, 6, 5]   \n",
    "print(find_max_min(lst))  # Output: (9, 1)"
   ]
  },
  {
   "cell_type": "code",
   "execution_count": 20,
   "id": "91fdb2a5",
   "metadata": {},
   "outputs": [
    {
     "name": "stdout",
     "output_type": "stream",
     "text": [
      "[4, 5]\n"
     ]
    }
   ],
   "source": [
    "###n intersection of two lists\n",
    "\n",
    "def intersection(lst1, lst2):\n",
    "    return list(set(lst1) & set(lst2))\n",
    "\n",
    "lst1 = [1, 2, 3, 4, 5]\n",
    "lst2 = [4, 5, 6, 7, 8]      \n",
    "print(intersection(lst1, lst2))  # Output: [4, 5]"
   ]
  },
  {
   "cell_type": "code",
   "execution_count": 22,
   "id": "5f323332",
   "metadata": {},
   "outputs": [
    {
     "name": "stdout",
     "output_type": "stream",
     "text": [
      "[4, 5]\n"
     ]
    }
   ],
   "source": [
    "##n  intersection of two lists while preserving order\n",
    "def intersection(lst1, lst2):\n",
    "    set_lst2 = set(lst2)\n",
    "    return [item for item in lst1 if item in set_lst2]  \n",
    "lst1 = [1, 2, 3, 4, 5]\n",
    "lst2 = [4, 5, 6, 7, 8]  \n",
    "print(intersection(lst1, lst2))  # Output: [4, 5]"
   ]
  },
  {
   "cell_type": "code",
   "execution_count": 23,
   "id": "aa858c32",
   "metadata": {},
   "outputs": [
    {
     "name": "stdout",
     "output_type": "stream",
     "text": [
      "[4, 5]\n"
     ]
    }
   ],
   "source": [
    "## intersection of two list without inbuilt functions\n",
    "def intersection(lst1, lst2):\n",
    "    result = []\n",
    "    for item in lst1:\n",
    "        if item in lst2 and item not in result:\n",
    "            result.append(item)\n",
    "    return result\n",
    "\n",
    "lst1 = [1, 2, 3, 4, 5]\n",
    "lst2 = [4, 5, 6, 7, 8]\n",
    "print(intersection(lst1, lst2))  # Output: [4, 5]"
   ]
  },
  {
   "cell_type": "code",
   "execution_count": null,
   "id": "17a84e48",
   "metadata": {},
   "outputs": [],
   "source": []
  },
  {
   "cell_type": "code",
   "execution_count": null,
   "id": "79dd1d3d",
   "metadata": {},
   "outputs": [],
   "source": []
  }
 ],
 "metadata": {
  "kernelspec": {
   "display_name": "base",
   "language": "python",
   "name": "python3"
  },
  "language_info": {
   "codemirror_mode": {
    "name": "ipython",
    "version": 3
   },
   "file_extension": ".py",
   "mimetype": "text/x-python",
   "name": "python",
   "nbconvert_exporter": "python",
   "pygments_lexer": "ipython3",
   "version": "3.12.7"
  }
 },
 "nbformat": 4,
 "nbformat_minor": 5
}
